{
 "cells": [
  {
   "cell_type": "code",
   "execution_count": 1,
   "metadata": {},
   "outputs": [
    {
     "data": {
      "text/html": [
       "<div>\n",
       "<style scoped>\n",
       "    .dataframe tbody tr th:only-of-type {\n",
       "        vertical-align: middle;\n",
       "    }\n",
       "\n",
       "    .dataframe tbody tr th {\n",
       "        vertical-align: top;\n",
       "    }\n",
       "\n",
       "    .dataframe thead th {\n",
       "        text-align: right;\n",
       "    }\n",
       "</style>\n",
       "<table border=\"1\" class=\"dataframe\">\n",
       "  <thead>\n",
       "    <tr style=\"text-align: right;\">\n",
       "      <th></th>\n",
       "      <th>price</th>\n",
       "      <th>sqft</th>\n",
       "      <th>bedroom</th>\n",
       "      <th>bathroom</th>\n",
       "      <th>balcony</th>\n",
       "      <th>age</th>\n",
       "      <th>flooring</th>\n",
       "      <th>furnishing</th>\n",
       "      <th>facing</th>\n",
       "      <th>parking</th>\n",
       "      <th>...</th>\n",
       "      <th>Intercom</th>\n",
       "      <th>Internet</th>\n",
       "      <th>Lift</th>\n",
       "      <th>Park</th>\n",
       "      <th>Security</th>\n",
       "      <th>Sewage</th>\n",
       "      <th>Shopping</th>\n",
       "      <th>Swimming</th>\n",
       "      <th>Visitor</th>\n",
       "      <th>price/sqft</th>\n",
       "    </tr>\n",
       "  </thead>\n",
       "  <tbody>\n",
       "    <tr>\n",
       "      <th>0</th>\n",
       "      <td>6000000</td>\n",
       "      <td>1030</td>\n",
       "      <td>2</td>\n",
       "      <td>2</td>\n",
       "      <td>1</td>\n",
       "      <td>4</td>\n",
       "      <td>1</td>\n",
       "      <td>2</td>\n",
       "      <td>2</td>\n",
       "      <td>1</td>\n",
       "      <td>...</td>\n",
       "      <td>0</td>\n",
       "      <td>0</td>\n",
       "      <td>0</td>\n",
       "      <td>0</td>\n",
       "      <td>0</td>\n",
       "      <td>0</td>\n",
       "      <td>0</td>\n",
       "      <td>0</td>\n",
       "      <td>1</td>\n",
       "      <td>5825.242718</td>\n",
       "    </tr>\n",
       "    <tr>\n",
       "      <th>1</th>\n",
       "      <td>6000000</td>\n",
       "      <td>2400</td>\n",
       "      <td>3</td>\n",
       "      <td>5</td>\n",
       "      <td>0</td>\n",
       "      <td>2</td>\n",
       "      <td>0</td>\n",
       "      <td>2</td>\n",
       "      <td>2</td>\n",
       "      <td>3</td>\n",
       "      <td>...</td>\n",
       "      <td>0</td>\n",
       "      <td>0</td>\n",
       "      <td>0</td>\n",
       "      <td>0</td>\n",
       "      <td>0</td>\n",
       "      <td>0</td>\n",
       "      <td>0</td>\n",
       "      <td>0</td>\n",
       "      <td>0</td>\n",
       "      <td>2500.000000</td>\n",
       "    </tr>\n",
       "    <tr>\n",
       "      <th>2</th>\n",
       "      <td>12000000</td>\n",
       "      <td>1200</td>\n",
       "      <td>4</td>\n",
       "      <td>1</td>\n",
       "      <td>0</td>\n",
       "      <td>4</td>\n",
       "      <td>0</td>\n",
       "      <td>1</td>\n",
       "      <td>0</td>\n",
       "      <td>3</td>\n",
       "      <td>...</td>\n",
       "      <td>0</td>\n",
       "      <td>0</td>\n",
       "      <td>0</td>\n",
       "      <td>0</td>\n",
       "      <td>0</td>\n",
       "      <td>0</td>\n",
       "      <td>0</td>\n",
       "      <td>0</td>\n",
       "      <td>0</td>\n",
       "      <td>10000.000000</td>\n",
       "    </tr>\n",
       "    <tr>\n",
       "      <th>3</th>\n",
       "      <td>2000000</td>\n",
       "      <td>450</td>\n",
       "      <td>1</td>\n",
       "      <td>1</td>\n",
       "      <td>0</td>\n",
       "      <td>4</td>\n",
       "      <td>0</td>\n",
       "      <td>1</td>\n",
       "      <td>2</td>\n",
       "      <td>3</td>\n",
       "      <td>...</td>\n",
       "      <td>0</td>\n",
       "      <td>0</td>\n",
       "      <td>0</td>\n",
       "      <td>0</td>\n",
       "      <td>0</td>\n",
       "      <td>0</td>\n",
       "      <td>0</td>\n",
       "      <td>0</td>\n",
       "      <td>0</td>\n",
       "      <td>4444.444444</td>\n",
       "    </tr>\n",
       "    <tr>\n",
       "      <th>4</th>\n",
       "      <td>55000000</td>\n",
       "      <td>2200</td>\n",
       "      <td>4</td>\n",
       "      <td>3</td>\n",
       "      <td>0</td>\n",
       "      <td>4</td>\n",
       "      <td>0</td>\n",
       "      <td>2</td>\n",
       "      <td>6</td>\n",
       "      <td>2</td>\n",
       "      <td>...</td>\n",
       "      <td>0</td>\n",
       "      <td>0</td>\n",
       "      <td>0</td>\n",
       "      <td>0</td>\n",
       "      <td>0</td>\n",
       "      <td>0</td>\n",
       "      <td>0</td>\n",
       "      <td>0</td>\n",
       "      <td>0</td>\n",
       "      <td>25000.000000</td>\n",
       "    </tr>\n",
       "  </tbody>\n",
       "</table>\n",
       "<p>5 rows × 28 columns</p>\n",
       "</div>"
      ],
      "text/plain": [
       "      price  sqft  bedroom  bathroom  balcony  age  flooring  furnishing  \\\n",
       "0   6000000  1030        2         2        1    4         1           2   \n",
       "1   6000000  2400        3         5        0    2         0           2   \n",
       "2  12000000  1200        4         1        0    4         0           1   \n",
       "3   2000000   450        1         1        0    4         0           1   \n",
       "4  55000000  2200        4         3        0    4         0           2   \n",
       "\n",
       "   facing  parking  ...  Intercom  Internet Lift  Park  Security  Sewage  \\\n",
       "0       2        1  ...         0         0    0     0         0       0   \n",
       "1       2        3  ...         0         0    0     0         0       0   \n",
       "2       0        3  ...         0         0    0     0         0       0   \n",
       "3       2        3  ...         0         0    0     0         0       0   \n",
       "4       6        2  ...         0         0    0     0         0       0   \n",
       "\n",
       "   Shopping  Swimming  Visitor    price/sqft  \n",
       "0         0         0        1   5825.242718  \n",
       "1         0         0        0   2500.000000  \n",
       "2         0         0        0  10000.000000  \n",
       "3         0         0        0   4444.444444  \n",
       "4         0         0        0  25000.000000  \n",
       "\n",
       "[5 rows x 28 columns]"
      ]
     },
     "execution_count": 1,
     "metadata": {},
     "output_type": "execute_result"
    }
   ],
   "source": [
    "import pandas as pd\n",
    "import numpy as np\n",
    "import matplotlib.pyplot as plt\n",
    "import seaborn as sns\n",
    "\n",
    "# Read CSV file\n",
    "df = pd.read_csv('C:/MadhuPES/SEMESTER6/PRASUNET/Prasunet_ML_01/Dataset/Bangalore-Property-Dataset.csv')\n",
    "df.head()"
   ]
  },
  {
   "cell_type": "code",
   "execution_count": 2,
   "metadata": {},
   "outputs": [
    {
     "data": {
      "text/plain": [
       "Index(['price', 'sqft', 'bedroom', 'bathroom', 'balcony', 'age', 'flooring',\n",
       "       'furnishing', 'facing', 'parking', 'gated_security', 'amenities',\n",
       "       'locality', 'Children', 'Club', 'Fire', 'Gas', 'Gym', 'Intercom',\n",
       "       'Internet', 'Lift', 'Park', 'Security', 'Sewage', 'Shopping',\n",
       "       'Swimming', 'Visitor', 'price/sqft'],\n",
       "      dtype='object')"
      ]
     },
     "execution_count": 2,
     "metadata": {},
     "output_type": "execute_result"
    }
   ],
   "source": [
    "df.columns"
   ]
  },
  {
   "cell_type": "code",
   "execution_count": 3,
   "metadata": {},
   "outputs": [
    {
     "name": "stdout",
     "output_type": "stream",
     "text": [
      "price               int64\n",
      "sqft                int64\n",
      "bedroom             int64\n",
      "bathroom            int64\n",
      "balcony             int64\n",
      "age                 int64\n",
      "flooring            int64\n",
      "furnishing          int64\n",
      "facing              int64\n",
      "parking             int64\n",
      "gated_security      int64\n",
      "amenities           int64\n",
      "locality           object\n",
      "Children            int64\n",
      "Club                int64\n",
      "Fire                int64\n",
      "Gas                 int64\n",
      "Gym                 int64\n",
      "Intercom            int64\n",
      "Internet            int64\n",
      "Lift                int64\n",
      "Park                int64\n",
      "Security            int64\n",
      "Sewage              int64\n",
      "Shopping            int64\n",
      "Swimming            int64\n",
      "Visitor             int64\n",
      "price/sqft        float64\n",
      "dtype: object\n"
     ]
    }
   ],
   "source": [
    "# Print all columns types\n",
    "print(df.dtypes)"
   ]
  },
  {
   "cell_type": "code",
   "execution_count": 4,
   "metadata": {},
   "outputs": [],
   "source": [
    "# import pandas as pd\n",
    "# from sklearn.preprocessing import OneHotEncoder\n",
    "\n",
    "# # Assuming your dataframe is named 'df' and the column you want to vectorize is 'locality'\n",
    "# locality_column = df['locality']\n",
    "\n",
    "# # Create a DataFrame with the 'locality' column\n",
    "# locality_df = pd.DataFrame(locality_column, columns=['locality'])\n",
    "\n",
    "# # Use OneHotEncoder to convert categorical values to numerical vectors\n",
    "# encoder = OneHotEncoder(sparse=False, drop='first')  # 'drop' parameter removes the first category to avoid multicollinearity\n",
    "# locality_encoded = encoder.fit_transform(locality_df)\n",
    "\n",
    "# # Create a new DataFrame with the encoded values\n",
    "# locality_encoded_df = pd.DataFrame(locality_encoded, columns=encoder.get_feature_names_out(['locality']))\n",
    "\n",
    "# # Concatenate the new DataFrame with the original DataFrame\n",
    "# df = pd.concat([df, locality_encoded_df], axis=1)\n",
    "\n",
    "# # Drop the original 'locality' column as it's no longer needed\n",
    "# df = df.drop(['locality'], axis=1)\n",
    "\n",
    "# # Now, 'locality' has been replaced with the one-hot encoded vectors in the DataFrame 'df'"
   ]
  },
  {
   "cell_type": "code",
   "execution_count": 5,
   "metadata": {},
   "outputs": [],
   "source": [
    "# mean_price_by_locality = df.groupby('locality')['price'].mean()\n",
    "# df['locality_encoded'] = df['locality'].map(mean_price_by_locality)\n",
    "\n",
    "# df = df.drop(['locality'], axis=1)"
   ]
  },
  {
   "cell_type": "code",
   "execution_count": 6,
   "metadata": {},
   "outputs": [
    {
     "name": "stdout",
     "output_type": "stream",
     "text": [
      "price               int64\n",
      "sqft                int64\n",
      "bedroom             int64\n",
      "bathroom            int64\n",
      "balcony             int64\n",
      "age                 int64\n",
      "flooring            int64\n",
      "furnishing          int64\n",
      "facing              int64\n",
      "parking             int64\n",
      "gated_security      int64\n",
      "amenities           int64\n",
      "locality           object\n",
      "Children            int64\n",
      "Club                int64\n",
      "Fire                int64\n",
      "Gas                 int64\n",
      "Gym                 int64\n",
      "Intercom            int64\n",
      "Internet            int64\n",
      "Lift                int64\n",
      "Park                int64\n",
      "Security            int64\n",
      "Sewage              int64\n",
      "Shopping            int64\n",
      "Swimming            int64\n",
      "Visitor             int64\n",
      "price/sqft        float64\n",
      "dtype: object\n"
     ]
    }
   ],
   "source": [
    "# type of columns\n",
    "print(df.dtypes)"
   ]
  },
  {
   "cell_type": "code",
   "execution_count": 7,
   "metadata": {},
   "outputs": [],
   "source": [
    "# Drop ownership column \n",
    "# df = df.drop(['ownership'], axis=1)"
   ]
  },
  {
   "cell_type": "code",
   "execution_count": 8,
   "metadata": {},
   "outputs": [
    {
     "name": "stdout",
     "output_type": "stream",
     "text": [
      "['Attiguppe' 'Banashankari' 'Basavangudi' 'Bellandur' 'Beninganahalli'\n",
      " 'Benson Town' 'Bommanahalli' 'BTM Layout' 'Chamrajpet' 'Channasandra'\n",
      " 'Cooke Town' 'Corporation' 'Cox Town' 'Dasarahalli' 'Deepanjalinagar'\n",
      " 'Devarbisanahalli' 'Devegowda' 'Doddenakundni' 'Domlur' 'Ejipura'\n",
      " 'Goregontepalya' 'Gunjur' 'HAL' 'Hebbal' 'Hoodi' 'Hosahalli'\n",
      " 'Hosakerahalli' 'HSR Layout' 'Jalahalli' 'Janatha Bazaar' 'Jayanagar'\n",
      " 'J P Nagar' 'Kadubisanahalli' 'Kadugodi' 'Kalasipalya' 'Kathriguppe'\n",
      " 'Kengeri' 'Konappana Agrahara' 'Koramangala' 'Lalbagh' 'Mahadevapura'\n",
      " 'Majestic' 'Malleshwaram' 'Marathahalli' 'Murugeshpalya' 'Nagarbhavi'\n",
      " 'Nagawara' 'Nayandahalli' 'Padmanabhanagar' 'Panathur' 'Peenya'\n",
      " 'Rajajinagar' 'Rajarajeshwarinagar' 'Sarjapura' 'Shantinagar'\n",
      " 'Shivajinagar' 'Summanahalli' 'Trinity' 'Uttarahalli' 'Varthur'\n",
      " 'Vijayanagar' 'Yelahanka' 'Yeshwantpur']\n"
     ]
    }
   ],
   "source": [
    "# Print all unique localities\n",
    "print(df['locality'].unique())"
   ]
  },
  {
   "cell_type": "code",
   "execution_count": 9,
   "metadata": {},
   "outputs": [],
   "source": [
    "# Label encoding for Locality \n",
    "from sklearn.preprocessing import LabelEncoder\n",
    "le = LabelEncoder()\n",
    "df['locality'] = le.fit_transform(df['locality'])"
   ]
  },
  {
   "cell_type": "code",
   "execution_count": 10,
   "metadata": {},
   "outputs": [
    {
     "name": "stdout",
     "output_type": "stream",
     "text": [
      "      price  sqft  bedroom  bathroom  balcony  age  flooring  furnishing  \\\n",
      "0  0.009036  1030        2         2        1    4         1           2   \n",
      "1  0.009036  2400        3         5        0    2         0           2   \n",
      "2  0.020951  1200        4         1        0    4         0           1   \n",
      "3  0.001092   450        1         1        0    4         0           1   \n",
      "4  0.106345  2200        4         3        0    4         0           2   \n",
      "\n",
      "   facing  parking  ...  Intercom  Internet  Lift  Park  Security  Sewage  \\\n",
      "0       2        1  ...         0         0     0     0         0       0   \n",
      "1       2        3  ...         0         0     0     0         0       0   \n",
      "2       0        3  ...         0         0     0     0         0       0   \n",
      "3       2        3  ...         0         0     0     0         0       0   \n",
      "4       6        2  ...         0         0     0     0         0       0   \n",
      "\n",
      "   Shopping  Swimming  Visitor    price/sqft  \n",
      "0         0         0        1   5825.242718  \n",
      "1         0         0        0   2500.000000  \n",
      "2         0         0        0  10000.000000  \n",
      "3         0         0        0   4444.444444  \n",
      "4         0         0        0  25000.000000  \n",
      "\n",
      "[5 rows x 28 columns]\n"
     ]
    }
   ],
   "source": [
    "# Normalize price\n",
    "\n",
    "# Import MinMaxScaler\n",
    "from sklearn.preprocessing import MinMaxScaler\n",
    "\n",
    "# Instantiate MinMaxScaler\n",
    "scaler = MinMaxScaler()\n",
    "\n",
    "# Fit MinMaxScaler and transform the features\n",
    "df['price'] = scaler.fit_transform(df[['price']])\n",
    "\n",
    "# Display the first 5 rows of the normalized features\n",
    "print(df.head())"
   ]
  },
  {
   "cell_type": "code",
   "execution_count": 11,
   "metadata": {},
   "outputs": [
    {
     "name": "stdout",
     "output_type": "stream",
     "text": [
      "      price      sqft  bedroom  bathroom  balcony  age  flooring  furnishing  \\\n",
      "0  0.009036  0.047178        2         2        1    4         1           2   \n",
      "1  0.009036  0.121898        3         5        0    2         0           2   \n",
      "2  0.020951  0.056449        4         1        0    4         0           1   \n",
      "3  0.001092  0.015544        1         1        0    4         0           1   \n",
      "4  0.106345  0.110990        4         3        0    4         0           2   \n",
      "\n",
      "   facing  parking  ...  Intercom  Internet  Lift  Park  Security  Sewage  \\\n",
      "0       2        1  ...         0         0     0     0         0       0   \n",
      "1       2        3  ...         0         0     0     0         0       0   \n",
      "2       0        3  ...         0         0     0     0         0       0   \n",
      "3       2        3  ...         0         0     0     0         0       0   \n",
      "4       6        2  ...         0         0     0     0         0       0   \n",
      "\n",
      "   Shopping  Swimming  Visitor    price/sqft  \n",
      "0         0         0        1   5825.242718  \n",
      "1         0         0        0   2500.000000  \n",
      "2         0         0        0  10000.000000  \n",
      "3         0         0        0   4444.444444  \n",
      "4         0         0        0  25000.000000  \n",
      "\n",
      "[5 rows x 28 columns]\n"
     ]
    }
   ],
   "source": [
    "# Normalization for sqft also \n",
    "\n",
    "# Instantiate MinMaxScaler\n",
    "scaler = MinMaxScaler()\n",
    "\n",
    "# Fit MinMaxScaler and transform the features\n",
    "df['sqft'] = scaler.fit_transform(df[['sqft']])\n",
    "\n",
    "# Display the first 5 rows of the normalized features\n",
    "print(df.head())"
   ]
  },
  {
   "cell_type": "code",
   "execution_count": 12,
   "metadata": {},
   "outputs": [
    {
     "name": "stdout",
     "output_type": "stream",
     "text": [
      "      price      sqft  bedroom  bathroom  balcony  age  flooring  furnishing  \\\n",
      "0  0.009036  0.047178        2         2        1    4         1           2   \n",
      "1  0.009036  0.121898        3         5        0    2         0           2   \n",
      "2  0.020951  0.056449        4         1        0    4         0           1   \n",
      "3  0.001092  0.015544        1         1        0    4         0           1   \n",
      "4  0.106345  0.110990        4         3        0    4         0           2   \n",
      "\n",
      "   facing  parking  ...  Intercom  Internet  Lift  Park  Security  Sewage  \\\n",
      "0       2        1  ...         0         0     0     0         0       0   \n",
      "1       2        3  ...         0         0     0     0         0       0   \n",
      "2       0        3  ...         0         0     0     0         0       0   \n",
      "3       2        3  ...         0         0     0     0         0       0   \n",
      "4       6        2  ...         0         0     0     0         0       0   \n",
      "\n",
      "   Shopping  Swimming  Visitor  price/sqft  \n",
      "0         0         0        1    0.010290  \n",
      "1         0         0        0    0.002547  \n",
      "2         0         0        0    0.020010  \n",
      "3         0         0        0    0.007075  \n",
      "4         0         0        0    0.054936  \n",
      "\n",
      "[5 rows x 28 columns]\n"
     ]
    }
   ],
   "source": [
    "# Normalization for price/sqft\n",
    "\n",
    "# Instantiate MinMaxScaler\n",
    "scaler = MinMaxScaler()\n",
    "\n",
    "# Fit MinMaxScaler and transform the features\n",
    "df['price/sqft'] = scaler.fit_transform(df[['price/sqft']])\n",
    "\n",
    "# Display the first 5 rows of the normalized features\n",
    "print(df.head())"
   ]
  },
  {
   "cell_type": "code",
   "execution_count": 13,
   "metadata": {},
   "outputs": [
    {
     "data": {
      "image/png": "[encoded data removed]",
      "text/plain": [
       "<Figure size 640x480 with 2 Axes>"
      ]
     },
     "metadata": {},
     "output_type": "display_data"
    }
   ],
   "source": [
    "# Correlation matrix\n",
    "\n",
    "# Create the correlation matrix\n",
    "corr = df.corr()\n",
    "\n",
    "# Draw the heatmap\n",
    "sns.heatmap(corr, center=0, cmap='coolwarm', annot=False)\n",
    "plt.show()"
   ]
  },
  {
   "cell_type": "code",
   "execution_count": 14,
   "metadata": {},
   "outputs": [
    {
     "name": "stdout",
     "output_type": "stream",
     "text": [
      "RMSE: 0.012120\n",
      "0.8423122505788175\n"
     ]
    }
   ],
   "source": [
    "#LINEAR REGRESSION\n",
    "\n",
    "import pandas as pd\n",
    "import numpy as np\n",
    "from sklearn.model_selection import train_test_split\n",
    "from sklearn.preprocessing import StandardScaler\n",
    "from sklearn.linear_model import LinearRegression\n",
    "from sklearn.metrics import mean_squared_error\n",
    "\n",
    "# set up X and y\n",
    "X = df.drop('price', axis=1).values\n",
    "y = df['price'].values\n",
    "\n",
    "# split data\n",
    "X_train, X_test, y_train, y_test = train_test_split(X, y, test_size=0.2, random_state=42)\n",
    "\n",
    "# Standardize the features\n",
    "scaler = StandardScaler()\n",
    "X_train = scaler.fit_transform(X_train)\n",
    "X_test = scaler.transform(X_test)\n",
    "\n",
    "# Instantiate the Linear Regression model\n",
    "lin_reg = LinearRegression()\n",
    "\n",
    "# Fit the model to the training set\n",
    "lin_reg.fit(X_train, y_train)\n",
    "\n",
    "# Predict the labels of the test set: preds\n",
    "preds = lin_reg.predict(X_test)\n",
    "\n",
    "# Compute the rmse: rmse\n",
    "rmse = np.sqrt(mean_squared_error(y_test, preds))\n",
    "print(\"RMSE: %f\" % rmse)\n",
    "\n",
    "# print model score\n",
    "print(lin_reg.score(X_test, y_test))\n"
   ]
  }
 ],
 "metadata": {
  "kernelspec": {
   "display_name": "Python 3",
   "language": "python",
   "name": "python3"
  },
  "language_info": {
   "codemirror_mode": {
    "name": "ipython",
    "version": 3
   },
   "file_extension": ".py",
   "mimetype": "text/x-python",
   "name": "python",
   "nbconvert_exporter": "python",
   "pygments_lexer": "ipython3",
   "version": "3.11.5"
  }
 },
 "nbformat": 4,
 "nbformat_minor": 2
}
